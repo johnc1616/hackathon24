{
 "cells": [
  {
   "cell_type": "code",
   "execution_count": null,
   "metadata": {},
   "outputs": [],
   "source": [
    "import requests\n",
    "from bs4 import BeautifulSoup\n",
    "\n",
    "url = 'https://usu.edu.au/events/'\n",
    "response = requests.get(url)\n",
    "response.raise_for_status() \n",
    "soup = BeautifulSoup(response.text, 'html.parser')\n",
    "\n",
    "# Find all <div> elements with class 'event'\n",
    "events = soup.find_all('div', class_='EventCard-module--EventCard--3dc8c')\n",
    "\n",
    "# Print the complete HTML of each event\n",
    "for card in events:\n",
    "    # Find the <a> tag within the current event card\n",
    "    link = card.find('a', class_='EventCard-module--link--6562a')\n",
    "    \n",
    "    if link:\n",
    "        # Extract the href attribute\n",
    "        href = link.get('href')\n",
    "        print(f\"Event URL: {href}\")\n",
    "\n",
    "    print(\"-\" * 40)"
   ]
  }
 ],
 "metadata": {
  "language_info": {
   "name": "python"
  }
 },
 "nbformat": 4,
 "nbformat_minor": 2
}
