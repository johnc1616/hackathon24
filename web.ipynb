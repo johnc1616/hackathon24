{
 "cells": [
  {
   "cell_type": "code",
   "execution_count": null,
   "metadata": {},
   "outputs": [],
   "source": [
    "import requests\n",
    "from bs4 import BeautifulSoup\n",
    "\n",
    "url = 'https://usu.edu.au/events/'\n",
    "response = requests.get(url)\n",
    "response.raise_for_status() \n",
    "soup = BeautifulSoup(response.text, 'html.parser')\n",
    "\n",
    "# Find all <div> elements with class 'event'\n",
    "events = soup.find_all('div', class_='EventCard-module--EventCard--3dc8c')\n",
    "\n",
    "# Print the complete HTML of each event\n",
    "for event in events:\n",
    "    print(event.prettify())\n",
    "    print(\"-\" * 100)"
   ]
  }
 ],
 "metadata": {
  "language_info": {
   "name": "python"
  }
 },
 "nbformat": 4,
 "nbformat_minor": 2
}
