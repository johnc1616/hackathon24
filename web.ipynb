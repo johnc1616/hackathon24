{
 "cells": [
  {
   "cell_type": "code",
   "execution_count": null,
   "metadata": {},
   "outputs": [],
   "source": [
    "import requests\n",
    "from bs4 import BeautifulSoup\n",
    "\n",
    "url = 'https://usu.edu.au/events/'\n",
    "response = requests.get(url)\n",
    "response.raise_for_status() \n",
    "soup = BeautifulSoup(response.text, 'html.parser')\n",
    "\n",
    "events = soup.find_all('div', class_='EventCard-module--EventCard--3dc8c')\n",
    "\n",
    "eventsdata = []\n",
    "\n",
    "for card in events:\n",
    "    date_span = card.find('span', class_='EventCard-module--date--d8888')\n",
    "    date = date_span.get_text(strip=True) if date_span else 'No date available'\n",
    "    \n",
    "    title_h3 = card.find('h3', class_='EventCard-module--name--c1353')\n",
    "    title = title_h3.get_text(strip=True) if title_h3 else 'No title available'\n",
    "    \n",
    "    print(f\"Title: {title}\")\n",
    "    print(f\"Date: {date}\")\n",
    "    print(\"-\" * 40)"
   ]
  }
 ],
 "metadata": {
  "language_info": {
   "name": "python"
  }
 },
 "nbformat": 4,
 "nbformat_minor": 2
}
